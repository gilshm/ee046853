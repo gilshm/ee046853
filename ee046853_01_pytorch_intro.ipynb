{
  "nbformat": 4,
  "nbformat_minor": 0,
  "metadata": {
    "colab": {
      "name": "ee046853_01_pytorch_intro.ipynb",
      "provenance": []
    },
    "kernelspec": {
      "name": "python3",
      "display_name": "Python 3"
    }
  },
  "cells": [
    {
      "cell_type": "markdown",
      "metadata": {
        "id": "ErJIitJV4qJv",
        "colab_type": "text"
      },
      "source": [
        "# Technion - EE046853 - Advanced Topics in Computer Architecture\n",
        "Welcome! In this exercise, we intend to give you some hands-on experience with deep neural networks (DNNs) using the PyTorch framework.\n",
        "Even though this exercise is more oriented towards the software/algorithm side, the stages of develping a DNN and the techniques you'll employ here have major implications on current (and future) hardware architectures.\n",
        "\n",
        "This exerecise is organized as follows:\n",
        "1.   **Part I: Introduction to PyTorch** - Train a convolutional neural network (CNN) for image classification for CIFAR-100 dataset.\n",
        "2.   **Part II: Quantization** - Explore quantization impact on model accuracy and hardware.\n",
        "3.   **Part III: Pruning** - Explore pruning impact on model accuracy and hardware.\n",
        "\n",
        "\n",
        "## Part I: Introduction to PyTorch\n",
        "\n"
      ]
    },
    {
      "cell_type": "code",
      "metadata": {
        "id": "uNyjzgJc2qdU",
        "colab_type": "code",
        "colab": {}
      },
      "source": [
        ""
      ],
      "execution_count": 0,
      "outputs": []
    }
  ]
}