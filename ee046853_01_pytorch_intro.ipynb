{
  "nbformat": 4,
  "nbformat_minor": 0,
  "metadata": {
    "colab": {
      "name": "ee046853_01_pytorch_intro.ipynb",
      "provenance": [],
      "toc_visible": true
    },
    "kernelspec": {
      "name": "python3",
      "display_name": "Python 3"
    },
    "accelerator": "GPU"
  },
  "cells": [
    {
      "cell_type": "markdown",
      "metadata": {
        "id": "ErJIitJV4qJv",
        "colab_type": "text"
      },
      "source": [
        "# Technion - EE046853 - Advanced Topics in Computer Architecture\n",
        "Welcome! In this exercise, we intend to give you some hands-on experience with deep neural networks (DNNs) using the PyTorch framework.\n",
        "Even though this exercise is more oriented towards the software/algorithm side, the stages of develping a DNN and the techniques you'll employ here have major implications on current (and future) hardware architectures.\n",
        "**bold text**\n",
        "This exerecise is organized as follows:\n",
        "1.   **Part I: Introduction to PyTorch** - Train a convolutional neural network (CNN) for image classification for CIFAR-100 dataset.\n",
        "2.   **Part II: Quantization** - Explore quantization impact on model accuracy and hardware.\n",
        "3.   **Part III: Pruning** - Explore pruning impact on model accuracy and hardware.\n"
      ]
    },
    {
      "cell_type": "markdown",
      "metadata": {
        "id": "fkiVivsTDjRx",
        "colab_type": "text"
      },
      "source": [
        "## Part I: Introduction to PyTorch"
      ]
    },
    {
      "cell_type": "markdown",
      "metadata": {
        "id": "dA-qWZVVDp9A",
        "colab_type": "text"
      },
      "source": [
        "### CIFAR-10\n",
        "The CIFAR-10 dataset consists of 60000 32x32 colour images in 10 classes, with 6000 images per class. There are 50000 training images and 10000 test images.\n",
        "We'll walkthrough how to code a CNN for image classification with PyTorch for the CIFAR-10 dataset. At the end, you'll do the same thing with CIFAR-100. More details can be found [here](https://www.cs.toronto.edu/~kriz/cifar.html).\n",
        "\n",
        "<center><img src=\"https://raw.githubusercontent.com/gilshm/ee046853/master/imgs/01_cifar10_dataset.png\" alt=\"CIFAR-10 dataset\" width=\"600\"/></center>\n"
      ]
    },
    {
      "cell_type": "markdown",
      "metadata": {
        "id": "cjUej52qDviq",
        "colab_type": "text"
      },
      "source": [
        "### PyTorch\n",
        "*For readability, this walkthrough will not detail each an every function argument; you are highly encouraged to check the PyTorch documentation by yourselves, and if something is still not clear, e-mail me.*"
      ]
    },
    {
      "cell_type": "markdown",
      "metadata": {
        "id": "HkAVvNwtD45X",
        "colab_type": "text"
      },
      "source": [
        "#### Loading CIFAR-10\n",
        "PyTorch is capable of downloading CIFAR-10 (and 100) automatically. Notice that batch size is set to 128, i.e., each feed-forward consists of 128 images.\n",
        "Regarding the *transforms.Normalize((...), (...))*, this is input data preprocessing (normalization) - for further details, see [here](http://cs231n.github.io/neural-networks-2/#datapre)."
      ]
    },
    {
      "cell_type": "code",
      "metadata": {
        "id": "Rm3UWmjY1qpI",
        "colab_type": "code",
        "colab": {
          "base_uri": "https://localhost:8080/",
          "height": 67
        },
        "outputId": "901bde16-b4b9-47ff-d576-b497e990d2bc"
      },
      "source": [
        "import torch\n",
        "import torchvision\n",
        "import torchvision.transforms as transforms\n",
        "\n",
        "BATCH_SIZE = 128\n",
        "\n",
        "transform = transforms.Compose([transforms.ToTensor(),\n",
        "                                transforms.Normalize((0.5, 0.5, 0.5),\n",
        "                                                     (0.5, 0.5, 0.5))])\n",
        "\n",
        "trainset = torchvision.datasets.CIFAR10(root='./data', train=True,\n",
        "                                        download=True, transform=transform)\n",
        "trainloader = torch.utils.data.DataLoader(trainset, batch_size=BATCH_SIZE,\n",
        "                                          shuffle=True, num_workers=2)\n",
        "\n",
        "testset = torchvision.datasets.CIFAR10(root='./data', train=False,\n",
        "                                       download=True, transform=transform)\n",
        "testloader = torch.utils.data.DataLoader(testset, batch_size=BATCH_SIZE,\n",
        "                                         shuffle=False, num_workers=2)\n",
        "\n",
        "classes = ('plane', 'car', 'bird', 'cat', 'deer',\n",
        "           'dog', 'frog', 'horse', 'ship', 'truck')"
      ],
      "execution_count": 1,
      "outputs": [
        {
          "output_type": "stream",
          "text": [
            "\r0it [00:00, ?it/s]"
          ],
          "name": "stderr"
        },
        {
          "output_type": "stream",
          "text": [
            "Downloading https://www.cs.toronto.edu/~kriz/cifar-10-python.tar.gz to ./data/cifar-10-python.tar.gz\n"
          ],
          "name": "stdout"
        },
        {
          "output_type": "stream",
          "text": [
            " 99%|█████████▉| 169041920/170498071 [00:11<00:00, 16118192.22it/s]"
          ],
          "name": "stderr"
        },
        {
          "output_type": "stream",
          "text": [
            "Extracting ./data/cifar-10-python.tar.gz to ./data\n",
            "Files already downloaded and verified\n"
          ],
          "name": "stdout"
        }
      ]
    },
    {
      "cell_type": "markdown",
      "metadata": {
        "id": "V2DL5R8G2JiI",
        "colab_type": "text"
      },
      "source": [
        "Let's visualize some input images from the training set. Notice how the train loader will load different batches each time, since we initialized it with *shuffle=True*.\n",
        "\n"
      ]
    },
    {
      "cell_type": "code",
      "metadata": {
        "id": "dj62zL9jCQlE",
        "colab_type": "code",
        "colab": {
          "base_uri": "https://localhost:8080/",
          "height": 155
        },
        "outputId": "346aa168-6e5f-41bd-d252-c0476bc4c3a8"
      },
      "source": [
        "import matplotlib.pyplot as plt\n",
        "import numpy as np\n",
        "\n",
        "def imshow(img):\n",
        "  img = img / 2 + 0.5     # Unnormalize\n",
        "  npimg = img.numpy()\n",
        "  plt.imshow(np.transpose(npimg, (1, 2, 0)))\n",
        "  plt.show()\n",
        "\n",
        "# Get a batch from the train loader\n",
        "dataiter = iter(trainloader)\n",
        "images, labels = dataiter.next()\n",
        "\n",
        "# Show images\n",
        "imshow(torchvision.utils.make_grid(images[0:4, :, :, :]))\n",
        "# Print their labels\n",
        "print(' '.join('%s' % classes[labels[j]] for j in range(4)))"
      ],
      "execution_count": 8,
      "outputs": [
        {
          "output_type": "display_data",
          "data": {
            "image/png": "[encoded data removed]",
            "text/plain": [
              "<Figure size 432x288 with 1 Axes>"
            ]
          },
          "metadata": {
            "tags": []
          }
        },
        {
          "output_type": "stream",
          "text": [
            "frog ship ship truck\n"
          ],
          "name": "stdout"
        }
      ]
    },
    {
      "cell_type": "markdown",
      "metadata": {
        "id": "ASNNvxWqGEgL",
        "colab_type": "text"
      },
      "source": [
        "#### The CNN Model\n",
        "Below an example of a simple \"Light\" AlexNet network - that is, 2 CONV layers followed by 3 FC layers. ReLU and max pooling is used as well."
      ]
    },
    {
      "cell_type": "code",
      "metadata": {
        "id": "6LeQqFNJGVwC",
        "colab_type": "code",
        "colab": {}
      },
      "source": [
        "import torch.nn as nn\n",
        "import torch.nn.functional as F\n",
        "\n",
        "\n",
        "class Net(nn.Module):\n",
        "    def __init__(self):\n",
        "        super(Net, self).__init__()\n",
        "        self.conv1 = nn.Conv2d(3, 6, 5)\n",
        "        self.pool = nn.MaxPool2d(2, 2)\n",
        "        self.conv2 = nn.Conv2d(6, 16, 5)\n",
        "        self.fc1 = nn.Linear(16 * 5 * 5, 120)\n",
        "        self.fc2 = nn.Linear(120, 84)\n",
        "        self.fc3 = nn.Linear(84, 10)\n",
        "\n",
        "    def forward(self, x):\n",
        "        x = self.pool(F.relu(self.conv1(x)))\n",
        "        x = self.pool(F.relu(self.conv2(x)))\n",
        "        x = x.view(-1, 16 * 5 * 5)\n",
        "        x = F.relu(self.fc1(x))\n",
        "        x = F.relu(self.fc2(x))\n",
        "        x = self.fc3(x)\n",
        "        return x\n",
        "\n",
        "\n",
        "net = Net().cuda()"
      ],
      "execution_count": 0,
      "outputs": []
    },
    {
      "cell_type": "markdown",
      "metadata": {
        "id": "Z6kKZQiiHsJF",
        "colab_type": "text"
      },
      "source": [
        "#### Training\n",
        "To train a neural network, we need to choose an optimizer and define a loss function.\n",
        "As an optimizer, we choose the stochastic gradient descent (SGD) with a learning rate (LR) of 0.01.\n",
        "The loss function we choose is cross-entropy loss which is defined as\n",
        "\n",
        "$$\n",
        "\\text{loss}(x, class) = -\\log\\left(\\frac{\\exp(x[class])}{\\sum_j \\exp(x[j])}\\right)\n",
        "                       = -x[class] + \\log\\left(\\sum_j \\exp(x[j])\\right),\n",
        "$$\n",
        "\n",
        "which is a composition of a log-softmax function and a negative log-likelihood loss.\n"
      ]
    },
    {
      "cell_type": "code",
      "metadata": {
        "id": "Kvayn2lyH6Ay",
        "colab_type": "code",
        "colab": {}
      },
      "source": [
        "import torch.optim as optim\n",
        "\n",
        "\n",
        "LR = 0.01\n",
        "\n",
        "criterion = nn.CrossEntropyLoss().cuda()\n",
        "optimizer = optim.SGD(net.parameters(), lr=LR)"
      ],
      "execution_count": 0,
      "outputs": []
    },
    {
      "cell_type": "markdown",
      "metadata": {
        "id": "kSUOSxPHOFbZ",
        "colab_type": "text"
      },
      "source": [
        "We define a training function and a validation function.\n",
        "\n",
        "For each batch, the training function feedforwards the inputs from the training set through the network (*model(images)*), computes the loss versus the reference or ground truth (*criterion(output, target)*), backward propogates the gradients from the loss function (*loss.backward()*), and updates the parameters (*optimizer.step()*).\n",
        "\n",
        "The validation function uses the validation set, which the network did not explicitly trained on, to check the model accuracy."
      ]
    },
    {
      "cell_type": "code",
      "metadata": {
        "id": "q3ico_4YPFkY",
        "colab_type": "code",
        "colab": {}
      },
      "source": [
        "import time\n",
        "\n",
        "\n",
        "def train(train_loader, model, criterion, optimizer, epoch):\n",
        "    batch_time = AverageMeter('Time', ':6.3f')\n",
        "    data_time = AverageMeter('Data', ':6.3f')\n",
        "    losses = AverageMeter('Loss', ':.4e')\n",
        "    top1 = AverageMeter('Acc@1', ':6.2f')\n",
        "    top5 = AverageMeter('Acc@5', ':6.2f')\n",
        "    progress = ProgressMeter(\n",
        "        len(train_loader),\n",
        "        [batch_time, data_time, losses, top1, top5],\n",
        "        prefix=\"Epoch: [{}]\".format(epoch))\n",
        "\n",
        "    # switch to train mode\n",
        "    model.train()\n",
        "\n",
        "    end = time.time()\n",
        "    for i, (images, target) in enumerate(train_loader):\n",
        "        # measure data loading time\n",
        "        data_time.update(time.time() - end)\n",
        "\n",
        "        images = images.cuda(non_blocking=True)\n",
        "        target = target.cuda(non_blocking=True)\n",
        "\n",
        "        # compute output\n",
        "        output = model(images)\n",
        "        loss = criterion(output, target)\n",
        "\n",
        "        # measure accuracy and record loss\n",
        "        acc1, acc5 = accuracy(output, target, topk=(1, 5))\n",
        "        losses.update(loss.item(), images.size(0))\n",
        "        top1.update(acc1[0], images.size(0))\n",
        "        top5.update(acc5[0], images.size(0))\n",
        "\n",
        "        # compute gradient and do SGD step\n",
        "        optimizer.zero_grad()\n",
        "        loss.backward()\n",
        "        optimizer.step()\n",
        "\n",
        "        # measure elapsed time\n",
        "        batch_time.update(time.time() - end)\n",
        "        end = time.time()\n",
        "\n",
        "        if i % 100 == 0:\n",
        "            progress.display(i)\n",
        "            \n",
        "            \n",
        "def validate(val_loader, model, criterion):\n",
        "    batch_time = AverageMeter('Time', ':6.3f')\n",
        "    losses = AverageMeter('Loss', ':.4e')\n",
        "    top1 = AverageMeter('Acc@1', ':6.2f')\n",
        "    top5 = AverageMeter('Acc@5', ':6.2f')\n",
        "    progress = ProgressMeter(\n",
        "        len(val_loader),\n",
        "        [batch_time, losses, top1, top5],\n",
        "        prefix='Test: ')\n",
        "\n",
        "    # switch to evaluate mode\n",
        "    model.eval()\n",
        "\n",
        "    with torch.no_grad():\n",
        "        end = time.time()\n",
        "        for i, (images, target) in enumerate(val_loader):\n",
        "            images = images.cuda(non_blocking=True)\n",
        "            target = target.cuda(non_blocking=True)\n",
        "\n",
        "            # compute output\n",
        "            output = model(images)\n",
        "            loss = criterion(output, target)\n",
        "\n",
        "            # measure accuracy and record loss\n",
        "            acc1, acc5 = accuracy(output, target, topk=(1, 5))\n",
        "            losses.update(loss.item(), images.size(0))\n",
        "            top1.update(acc1[0], images.size(0))\n",
        "            top5.update(acc5[0], images.size(0))\n",
        "\n",
        "            # measure elapsed time\n",
        "            batch_time.update(time.time() - end)\n",
        "            end = time.time()\n",
        "\n",
        "            if i % 100 == 0:\n",
        "                progress.display(i)\n",
        "\n",
        "        # TODO: this should also be done with the ProgressMeter\n",
        "        print(' * Acc@1 {top1.avg:.3f} Acc@5 {top5.avg:.3f}'\n",
        "              .format(top1=top1, top5=top5))\n",
        "\n",
        "    return top1.avg"
      ],
      "execution_count": 0,
      "outputs": []
    },
    {
      "cell_type": "markdown",
      "metadata": {
        "id": "gGjpLMJ7RCCF",
        "colab_type": "text"
      },
      "source": [
        "Below are additional auxiliary functions (e.g., gathering statistics)."
      ]
    },
    {
      "cell_type": "code",
      "metadata": {
        "id": "ywJBdnxWPVwp",
        "colab_type": "code",
        "colab": {}
      },
      "source": [
        "class AverageMeter(object):\n",
        "    \"\"\"Computes and stores the average and current value\"\"\"\n",
        "    def __init__(self, name, fmt=':f'):\n",
        "        self.name = name\n",
        "        self.fmt = fmt\n",
        "        self.reset()\n",
        "\n",
        "    def reset(self):\n",
        "        self.val = 0\n",
        "        self.avg = 0\n",
        "        self.sum = 0\n",
        "        self.count = 0\n",
        "\n",
        "    def update(self, val, n=1):\n",
        "        self.val = val\n",
        "        self.sum += val * n\n",
        "        self.count += n\n",
        "        self.avg = self.sum / self.count\n",
        "\n",
        "    def __str__(self):\n",
        "        fmtstr = '{name} {val' + self.fmt + '} ({avg' + self.fmt + '})'\n",
        "        return fmtstr.format(**self.__dict__)\n",
        "      \n",
        "      \n",
        "class ProgressMeter(object):\n",
        "    def __init__(self, num_batches, meters, prefix=\"\"):\n",
        "        self.batch_fmtstr = self._get_batch_fmtstr(num_batches)\n",
        "        self.meters = meters\n",
        "        self.prefix = prefix\n",
        "\n",
        "    def display(self, batch):\n",
        "        entries = [self.prefix + self.batch_fmtstr.format(batch)]\n",
        "        entries += [str(meter) for meter in self.meters]\n",
        "        print('\\t'.join(entries))\n",
        "\n",
        "    def _get_batch_fmtstr(self, num_batches):\n",
        "        num_digits = len(str(num_batches // 1))\n",
        "        fmt = '{:' + str(num_digits) + 'd}'\n",
        "        return '[' + fmt + '/' + fmt.format(num_batches) + ']'\n",
        "      \n",
        "      \n",
        "def accuracy(output, target, topk=(1,)):\n",
        "    \"\"\"Computes the accuracy over the k top predictions for the specified values of k\"\"\"\n",
        "    with torch.no_grad():\n",
        "        maxk = max(topk)\n",
        "        batch_size = target.size(0)\n",
        "\n",
        "        _, pred = output.topk(maxk, 1, True, True)\n",
        "        pred = pred.t()\n",
        "        correct = pred.eq(target.view(1, -1).expand_as(pred))\n",
        "\n",
        "        res = []\n",
        "        for k in topk:\n",
        "            correct_k = correct[:k].view(-1).float().sum(0, keepdim=True)\n",
        "            res.append(correct_k.mul_(100.0 / batch_size))\n",
        "        return res"
      ],
      "execution_count": 0,
      "outputs": []
    },
    {
      "cell_type": "markdown",
      "metadata": {
        "id": "p5UE8tbmcK3b",
        "colab_type": "text"
      },
      "source": [
        "It's training time! we'll try 10 epochs."
      ]
    },
    {
      "cell_type": "code",
      "metadata": {
        "id": "H7-bY1z_PYj2",
        "colab_type": "code",
        "colab": {
          "base_uri": "https://localhost:8080/",
          "height": 1000
        },
        "outputId": "e96d553c-e381-4161-8cf9-2a17003c36ad"
      },
      "source": [
        "EPOCHS = 10\n",
        "\n",
        "for epoch in range(0, EPOCHS):\n",
        "    #adjust_learning_rate(optimizer, epoch, args)\n",
        "\n",
        "    # train for one epoch\n",
        "    train(trainloader, net, criterion, optimizer, epoch)\n",
        "\n",
        "    # evaluate on validation set\n",
        "    acc1 = validate(testloader, net, criterion)"
      ],
      "execution_count": 21,
      "outputs": [
        {
          "output_type": "stream",
          "text": [
            "Epoch: [0][  0/391]\tTime  0.144 ( 0.144)\tData  0.128 ( 0.128)\tLoss 2.2974e+00 (2.2974e+00)\tAcc@1  10.16 ( 10.16)\tAcc@5  52.34 ( 52.34)\n",
            "Epoch: [0][100/391]\tTime  0.044 ( 0.031)\tData  0.038 ( 0.023)\tLoss 2.3037e+00 (2.3046e+00)\tAcc@1  12.50 (  9.78)\tAcc@5  47.66 ( 49.27)\n",
            "Epoch: [0][200/391]\tTime  0.043 ( 0.029)\tData  0.038 ( 0.021)\tLoss 2.3087e+00 (2.3045e+00)\tAcc@1   7.81 (  9.51)\tAcc@5  43.75 ( 49.39)\n",
            "Epoch: [0][300/391]\tTime  0.056 ( 0.029)\tData  0.052 ( 0.021)\tLoss 2.2989e+00 (2.3039e+00)\tAcc@1   9.38 (  9.53)\tAcc@5  51.56 ( 49.63)\n",
            "Test: [ 0/79]\tTime  0.122 ( 0.122)\tLoss 2.3005e+00 (2.3005e+00)\tAcc@1  12.50 ( 12.50)\tAcc@5  53.12 ( 53.12)\n",
            " * Acc@1 9.810 Acc@5 52.460\n",
            "Epoch: [1][  0/391]\tTime  0.153 ( 0.153)\tData  0.141 ( 0.141)\tLoss 2.2988e+00 (2.2988e+00)\tAcc@1   9.38 (  9.38)\tAcc@5  54.69 ( 54.69)\n",
            "Epoch: [1][100/391]\tTime  0.032 ( 0.029)\tData  0.026 ( 0.022)\tLoss 2.3017e+00 (2.3009e+00)\tAcc@1   5.47 (  9.46)\tAcc@5  54.69 ( 53.10)\n",
            "Epoch: [1][200/391]\tTime  0.054 ( 0.028)\tData  0.048 ( 0.021)\tLoss 2.2972e+00 (2.3002e+00)\tAcc@1  10.16 (  9.69)\tAcc@5  57.03 ( 54.64)\n",
            "Epoch: [1][300/391]\tTime  0.046 ( 0.029)\tData  0.041 ( 0.022)\tLoss 2.2928e+00 (2.2995e+00)\tAcc@1  19.53 ( 10.18)\tAcc@5  63.28 ( 55.41)\n",
            "Test: [ 0/79]\tTime  0.129 ( 0.129)\tLoss 2.2930e+00 (2.2930e+00)\tAcc@1  21.09 ( 21.09)\tAcc@5  63.28 ( 63.28)\n",
            " * Acc@1 16.880 Acc@5 60.780\n",
            "Epoch: [2][  0/391]\tTime  0.156 ( 0.156)\tData  0.148 ( 0.148)\tLoss 2.2906e+00 (2.2906e+00)\tAcc@1  16.41 ( 16.41)\tAcc@5  63.28 ( 63.28)\n",
            "Epoch: [2][100/391]\tTime  0.012 ( 0.030)\tData  0.000 ( 0.023)\tLoss 2.2914e+00 (2.2934e+00)\tAcc@1  14.06 ( 17.06)\tAcc@5  65.62 ( 62.01)\n",
            "Epoch: [2][200/391]\tTime  0.007 ( 0.029)\tData  0.001 ( 0.022)\tLoss 2.2895e+00 (2.2909e+00)\tAcc@1  19.53 ( 18.08)\tAcc@5  60.94 ( 64.56)\n",
            "Epoch: [2][300/391]\tTime  0.047 ( 0.028)\tData  0.042 ( 0.021)\tLoss 2.2722e+00 (2.2873e+00)\tAcc@1  22.66 ( 18.66)\tAcc@5  69.53 ( 65.77)\n",
            "Test: [ 0/79]\tTime  0.139 ( 0.139)\tLoss 2.2440e+00 (2.2440e+00)\tAcc@1  25.78 ( 25.78)\tAcc@5  74.22 ( 74.22)\n",
            " * Acc@1 21.970 Acc@5 67.920\n",
            "Epoch: [3][  0/391]\tTime  0.133 ( 0.133)\tData  0.123 ( 0.123)\tLoss 2.2474e+00 (2.2474e+00)\tAcc@1  24.22 ( 24.22)\tAcc@5  71.09 ( 71.09)\n",
            "Epoch: [3][100/391]\tTime  0.050 ( 0.030)\tData  0.044 ( 0.023)\tLoss 2.2293e+00 (2.2323e+00)\tAcc@1  18.75 ( 21.82)\tAcc@5  66.41 ( 68.78)\n",
            "Epoch: [3][200/391]\tTime  0.007 ( 0.029)\tData  0.000 ( 0.022)\tLoss 2.1576e+00 (2.1963e+00)\tAcc@1  20.31 ( 22.71)\tAcc@5  70.31 ( 70.23)\n",
            "Epoch: [3][300/391]\tTime  0.011 ( 0.029)\tData  0.000 ( 0.022)\tLoss 2.1350e+00 (2.1561e+00)\tAcc@1  21.88 ( 23.69)\tAcc@5  68.75 ( 71.87)\n",
            "Test: [ 0/79]\tTime  0.128 ( 0.128)\tLoss 1.9288e+00 (1.9288e+00)\tAcc@1  35.16 ( 35.16)\tAcc@5  84.38 ( 84.38)\n",
            " * Acc@1 28.720 Acc@5 79.120\n",
            "Epoch: [4][  0/391]\tTime  0.138 ( 0.138)\tData  0.130 ( 0.130)\tLoss 2.0585e+00 (2.0585e+00)\tAcc@1  20.31 ( 20.31)\tAcc@5  73.44 ( 73.44)\n",
            "Epoch: [4][100/391]\tTime  0.058 ( 0.029)\tData  0.052 ( 0.021)\tLoss 2.0556e+00 (1.9847e+00)\tAcc@1  24.22 ( 28.57)\tAcc@5  78.12 ( 78.85)\n",
            "Epoch: [4][200/391]\tTime  0.034 ( 0.029)\tData  0.029 ( 0.021)\tLoss 2.0130e+00 (1.9662e+00)\tAcc@1  30.47 ( 29.25)\tAcc@5  75.78 ( 79.68)\n",
            "Epoch: [4][300/391]\tTime  0.015 ( 0.028)\tData  0.010 ( 0.021)\tLoss 1.9349e+00 (1.9544e+00)\tAcc@1  28.91 ( 29.83)\tAcc@5  81.25 ( 80.07)\n",
            "Test: [ 0/79]\tTime  0.141 ( 0.141)\tLoss 1.8403e+00 (1.8403e+00)\tAcc@1  35.94 ( 35.94)\tAcc@5  83.59 ( 83.59)\n",
            " * Acc@1 32.380 Acc@5 82.470\n",
            "Epoch: [5][  0/391]\tTime  0.145 ( 0.145)\tData  0.134 ( 0.134)\tLoss 1.9655e+00 (1.9655e+00)\tAcc@1  32.03 ( 32.03)\tAcc@5  78.12 ( 78.12)\n",
            "Epoch: [5][100/391]\tTime  0.014 ( 0.029)\tData  0.000 ( 0.022)\tLoss 1.8823e+00 (1.8985e+00)\tAcc@1  33.59 ( 31.95)\tAcc@5  83.59 ( 82.33)\n",
            "Epoch: [5][200/391]\tTime  0.041 ( 0.029)\tData  0.035 ( 0.022)\tLoss 1.9705e+00 (1.8845e+00)\tAcc@1  21.09 ( 32.21)\tAcc@5  82.03 ( 82.79)\n",
            "Epoch: [5][300/391]\tTime  0.057 ( 0.029)\tData  0.050 ( 0.022)\tLoss 1.8967e+00 (1.8719e+00)\tAcc@1  32.03 ( 32.91)\tAcc@5  82.03 ( 83.21)\n",
            "Test: [ 0/79]\tTime  0.144 ( 0.144)\tLoss 1.7664e+00 (1.7664e+00)\tAcc@1  30.47 ( 30.47)\tAcc@5  85.16 ( 85.16)\n",
            " * Acc@1 35.350 Acc@5 85.450\n",
            "Epoch: [6][  0/391]\tTime  0.150 ( 0.150)\tData  0.137 ( 0.137)\tLoss 1.7790e+00 (1.7790e+00)\tAcc@1  35.16 ( 35.16)\tAcc@5  86.72 ( 86.72)\n",
            "Epoch: [6][100/391]\tTime  0.043 ( 0.029)\tData  0.038 ( 0.022)\tLoss 1.9347e+00 (1.8046e+00)\tAcc@1  31.25 ( 35.23)\tAcc@5  85.16 ( 85.22)\n",
            "Epoch: [6][200/391]\tTime  0.007 ( 0.029)\tData  0.000 ( 0.021)\tLoss 1.8246e+00 (1.7917e+00)\tAcc@1  32.81 ( 35.35)\tAcc@5  86.72 ( 86.03)\n",
            "Epoch: [6][300/391]\tTime  0.041 ( 0.028)\tData  0.035 ( 0.021)\tLoss 1.8004e+00 (1.7807e+00)\tAcc@1  31.25 ( 35.63)\tAcc@5  88.28 ( 86.27)\n",
            "Test: [ 0/79]\tTime  0.131 ( 0.131)\tLoss 1.6603e+00 (1.6603e+00)\tAcc@1  41.41 ( 41.41)\tAcc@5  87.50 ( 87.50)\n",
            " * Acc@1 37.370 Acc@5 88.430\n",
            "Epoch: [7][  0/391]\tTime  0.134 ( 0.134)\tData  0.115 ( 0.115)\tLoss 1.5793e+00 (1.5793e+00)\tAcc@1  46.09 ( 46.09)\tAcc@5  92.19 ( 92.19)\n",
            "Epoch: [7][100/391]\tTime  0.013 ( 0.028)\tData  0.000 ( 0.021)\tLoss 1.6417e+00 (1.7206e+00)\tAcc@1  39.84 ( 38.07)\tAcc@5  89.06 ( 87.96)\n",
            "Epoch: [7][200/391]\tTime  0.043 ( 0.029)\tData  0.038 ( 0.021)\tLoss 1.6392e+00 (1.7104e+00)\tAcc@1  43.75 ( 38.29)\tAcc@5  89.84 ( 87.93)\n",
            "Epoch: [7][300/391]\tTime  0.013 ( 0.029)\tData  0.000 ( 0.021)\tLoss 1.6135e+00 (1.6972e+00)\tAcc@1  44.53 ( 38.50)\tAcc@5  87.50 ( 88.15)\n",
            "Test: [ 0/79]\tTime  0.153 ( 0.153)\tLoss 1.5989e+00 (1.5989e+00)\tAcc@1  46.09 ( 46.09)\tAcc@5  88.28 ( 88.28)\n",
            " * Acc@1 39.790 Acc@5 89.410\n",
            "Epoch: [8][  0/391]\tTime  0.149 ( 0.149)\tData  0.134 ( 0.134)\tLoss 1.6595e+00 (1.6595e+00)\tAcc@1  37.50 ( 37.50)\tAcc@5  88.28 ( 88.28)\n",
            "Epoch: [8][100/391]\tTime  0.044 ( 0.030)\tData  0.039 ( 0.023)\tLoss 1.6679e+00 (1.6335e+00)\tAcc@1  38.28 ( 40.20)\tAcc@5  89.84 ( 89.93)\n",
            "Epoch: [8][200/391]\tTime  0.052 ( 0.030)\tData  0.046 ( 0.022)\tLoss 1.6120e+00 (1.6404e+00)\tAcc@1  43.75 ( 40.38)\tAcc@5  91.41 ( 89.48)\n",
            "Epoch: [8][300/391]\tTime  0.040 ( 0.029)\tData  0.035 ( 0.022)\tLoss 1.6772e+00 (1.6355e+00)\tAcc@1  39.06 ( 40.57)\tAcc@5  90.62 ( 89.57)\n",
            "Test: [ 0/79]\tTime  0.120 ( 0.120)\tLoss 1.5486e+00 (1.5486e+00)\tAcc@1  46.09 ( 46.09)\tAcc@5  89.06 ( 89.06)\n",
            " * Acc@1 41.850 Acc@5 90.550\n",
            "Epoch: [9][  0/391]\tTime  0.148 ( 0.148)\tData  0.133 ( 0.133)\tLoss 1.5258e+00 (1.5258e+00)\tAcc@1  38.28 ( 38.28)\tAcc@5  88.28 ( 88.28)\n",
            "Epoch: [9][100/391]\tTime  0.030 ( 0.029)\tData  0.025 ( 0.021)\tLoss 1.4925e+00 (1.5820e+00)\tAcc@1  46.09 ( 42.71)\tAcc@5  92.19 ( 90.56)\n",
            "Epoch: [9][200/391]\tTime  0.043 ( 0.028)\tData  0.037 ( 0.021)\tLoss 1.4704e+00 (1.5740e+00)\tAcc@1  50.00 ( 42.58)\tAcc@5  89.84 ( 90.76)\n",
            "Epoch: [9][300/391]\tTime  0.037 ( 0.028)\tData  0.032 ( 0.021)\tLoss 1.5384e+00 (1.5735e+00)\tAcc@1  47.66 ( 42.77)\tAcc@5  90.62 ( 90.72)\n",
            "Test: [ 0/79]\tTime  0.115 ( 0.115)\tLoss 1.5178e+00 (1.5178e+00)\tAcc@1  47.66 ( 47.66)\tAcc@5  90.62 ( 90.62)\n",
            " * Acc@1 42.740 Acc@5 90.590\n"
          ],
          "name": "stdout"
        }
      ]
    },
    {
      "cell_type": "markdown",
      "metadata": {
        "id": "1gDAr-ChiCIv",
        "colab_type": "text"
      },
      "source": [
        "<center><img src=\"https://upload.wikimedia.org/wikipedia/commons/0/04/Barack_Obama_Mic_Drop_2016.jpg\" alt=\"Mic drop\" width=\"600\"/></center>"
      ]
    }
  ]
}